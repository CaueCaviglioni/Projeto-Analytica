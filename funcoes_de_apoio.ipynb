{
 "cells": [
  {
   "cell_type": "code",
   "execution_count": 79,
   "id": "assumed-dining",
   "metadata": {},
   "outputs": [],
   "source": [
    "import numpy as np\n",
    "import random as rd"
   ]
  },
  {
   "cell_type": "code",
   "execution_count": 70,
   "id": "flush-medium",
   "metadata": {},
   "outputs": [],
   "source": [
    "def ajusta_reta(vetor_x, vetor_y):\n",
    "    A = np.zeros((2, 2))      # cria uma matriz de dimensão 2\n",
    "    b = np.zeros(2)           # cria vetor de dimensão 2\n",
    "    H = []\n",
    "    # Cálculo dos vetores h, que representam o conjunto de dados ajustados à curva\n",
    "    for i in range(1, -1, -1):\n",
    "        h = pow(vetor_x, i)\n",
    "        H.append(h)\n",
    "    # Cálculo dos elementos que compõem a matriz A dos coeficientes\n",
    "    for i in range(2):\n",
    "        for j in range(2):\n",
    "            A[i][j] = np.dot(H[i], H[j])\n",
    "        b[i] = np.dot(vetor_y, H[i])\n",
    "    # Resolve sistema linear Ax = b, onde x é o vetor com as constantes da curva\n",
    "    coefs = np.linalg.solve(A, b)\n",
    "    \n",
    "    return coefs"
   ]
  },
  {
   "cell_type": "code",
   "execution_count": 71,
   "id": "fourth-matter",
   "metadata": {},
   "outputs": [],
   "source": [
    "def ajusta_exp(vetor_x, vetor_y):  # Funcionamento semelhante ao ajuste_reta, apenas com a necessidade de linearizar a curva\n",
    "    vetor_y = np.log(vetor_y)\n",
    "    coefs = ajusta_reta(vetor_x, vetor_y)\n",
    "    coefs[1] = np.exp(coefs[1])\n",
    "    return coefs"
   ]
  },
  {
   "cell_type": "code",
   "execution_count": 72,
   "id": "seventh-harvest",
   "metadata": {},
   "outputs": [],
   "source": [
    "def calcula_aprox_reta(coefs, vetor_x):  # Calcula as aproximações usando as constantes encontradas\n",
    "    vetor_x = np.asarray(vetor_x)\n",
    "    aprox = coefs[0]*vetor_x + coefs[1]\n",
    "    return aprox"
   ]
  },
  {
   "cell_type": "code",
   "execution_count": 73,
   "id": "empty-steam",
   "metadata": {},
   "outputs": [],
   "source": [
    "def calcula_aprox_exp(coefs, vetor_x):  # mesmo que o anterior, mas com as constantes da função exponencial\n",
    "    vetor_x = np.asarray(vetor_x)\n",
    "    aprox = coefs[1]*np.exp(coefs[0]*vetor_x)\n",
    "    return aprox"
   ]
  },
  {
   "cell_type": "code",
   "execution_count": null,
   "id": "productive-milwaukee",
   "metadata": {},
   "outputs": [],
   "source": []
  }
 ],
 "metadata": {
  "kernelspec": {
   "display_name": "Python 3",
   "language": "python",
   "name": "python3"
  },
  "language_info": {
   "codemirror_mode": {
    "name": "ipython",
    "version": 3
   },
   "file_extension": ".py",
   "mimetype": "text/x-python",
   "name": "python",
   "nbconvert_exporter": "python",
   "pygments_lexer": "ipython3",
   "version": "3.6.8"
  }
 },
 "nbformat": 4,
 "nbformat_minor": 5
}
